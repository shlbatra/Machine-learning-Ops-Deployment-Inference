{
 "cells": [
  {
   "cell_type": "code",
   "execution_count": 1,
   "id": "39d28c35",
   "metadata": {},
   "outputs": [],
   "source": [
    "from google.cloud import aiplatform, aiplatform_v1, storage, run_v2\n",
    "import joblib\n",
    "import tempfile\n",
    "import os\n",
    "import requests\n",
    "import time\n",
    "from google.auth import default"
   ]
  },
  {
   "cell_type": "code",
   "execution_count": 2,
   "id": "12f28fb3",
   "metadata": {},
   "outputs": [],
   "source": [
    "project_id = 'deeplearning-sahil'\n",
    "location = 'us-central1'\n",
    "aiplatform.init(project=project_id, location=location)"
   ]
  },
  {
   "cell_type": "code",
   "execution_count": 3,
   "id": "a547c3e0",
   "metadata": {},
   "outputs": [
    {
     "name": "stderr",
     "output_type": "stream",
     "text": [
      "WARNING: All log messages before absl::InitializeLog() is called are written to STDERR\n",
      "I0000 00:00:1757802530.824399 54743774 check_gcp_environment_no_op.cc:29] ALTS: Platforms other than Linux and Windows are not supported\n"
     ]
    }
   ],
   "source": [
    "client = aiplatform_v1.ModelServiceClient(\n",
    "        client_options={\"api_endpoint\": f\"{location}-aiplatform.googleapis.com\"}\n",
    "    )"
   ]
  },
  {
   "cell_type": "code",
   "execution_count": 4,
   "id": "dea56c1b",
   "metadata": {},
   "outputs": [],
   "source": [
    "# models = aiplatform.Model.list(filter=f\"display_name={model_name}\")\n",
    "# models"
   ]
  },
  {
   "cell_type": "code",
   "execution_count": 5,
   "id": "9045df01",
   "metadata": {},
   "outputs": [],
   "source": [
    "# credentials, _ = default()"
   ]
  },
  {
   "cell_type": "code",
   "execution_count": 6,
   "id": "7460b30a",
   "metadata": {},
   "outputs": [],
   "source": [
    "# credentials.client_secret"
   ]
  },
  {
   "cell_type": "code",
   "execution_count": 7,
   "id": "f4b62dfa",
   "metadata": {},
   "outputs": [],
   "source": [
    "# credentials.client_id"
   ]
  },
  {
   "cell_type": "code",
   "execution_count": 8,
   "id": "496c8ebc",
   "metadata": {},
   "outputs": [],
   "source": [
    "model_name = 'Iris-Classifier-XGBoost'\n",
    "request = {\n",
    "        \"parent\": f\"projects/{project_id}/locations/{location}\",\n",
    "        \"filter\": f\"display_name={model_name}\"\n",
    "    }\n",
    "\n",
    "models = list(client.list_models(request=request))\n",
    "blessed_model = None"
   ]
  },
  {
   "cell_type": "code",
   "execution_count": 9,
   "id": "5fdc18da",
   "metadata": {},
   "outputs": [
    {
     "data": {
      "text/plain": [
       "[name: \"projects/57434141298/locations/us-central1/models/2672742342821150720\"\n",
       " version_id: \"1\"\n",
       " version_aliases: \"default\"\n",
       " version_create_time {\n",
       "   seconds: 1746422998\n",
       "   nanos: 130806000\n",
       " }\n",
       " version_update_time {\n",
       "   seconds: 1746424646\n",
       "   nanos: 66237000\n",
       " }\n",
       " display_name: \"Iris-Classifier-XGBoost\"\n",
       " predict_schemata {\n",
       "   instance_schema_uri: \"https://storage.googleapis.com/caip-tenant-4db17081-7d07-424f-8df2-cae4e3bebe9d/schemata/predict_instance.yaml?GoogleAccessId=service-57434141298@gcp-sa-aiplatform.iam.gserviceaccount.com&Expires=1757806133&Signature=VK37l48UEL%252FGsZ6vmJnUKOB3cKYXT2wrxrLdArqlQWytCtS%252Beh3ReN74V%252BAVq10312hiWkDotoFDY2xsiUTI%252BNkzODIOkSgATNCaFyx22uYe2zBFA%252BxGMoit9n8eXzez8Rx57Eno4gC6pyD1jI5mowZ7BU5HTZRlR5Ey1KTTpmmCrLjw0lyUi8sIwTXbVDLrbaPF%252FMH4cWQ6vw8voZ97btIBP9XtwMJ5FdQ2U2LizRmTU9rbknGz3Q9AeAmbyAcY3JIRcTLUOXUA2SlbEqmP5UP831VVRc6%252BwlMzRDo7FBZCt1ku8mxpsuQ4vavrcxtUxVVTKuMLUgs6uL1%252BO%252Fp59A%253D%253D\"\n",
       "   prediction_schema_uri: \"https://storage.googleapis.com/caip-tenant-4db17081-7d07-424f-8df2-cae4e3bebe9d/schemata/prediction.yaml?GoogleAccessId=service-57434141298@gcp-sa-aiplatform.iam.gserviceaccount.com&Expires=1757806133&Signature=kAZv08%252BQP16sw1CPh7FKv2omSWKPBKUht52Nq0Jc6FRGkjBdUOYyT0VPHgwOiGnTOFuMH0S2GbLHclpOz6mjn0L5Jy8JLQCqaLUV9GIcKxkJ0aO0ysVsjBaG60rq8aPJxrkuLcn7RkYKDIjRs%252FKUc9v95hb3y1FTsbaOWEBkZ8PGbcsolHnLHFrovbiePr0mNzF4aHTuWoe5Xoj%252BH%252BjxLfWkmwcZ1KNHFdUFg71wkPDRWy1YKCLZIQFewAe9aRAqZiRNrY2lHHgN%252F%252Bn39qQwJHbvGISVItR0hD%252BodM4a9aI2t%252FPBJLhetKs%252BP%252Bv9v%252BwvLr4Ky4TQwBbkvmedAYYGAQ%253D%253D\"\n",
       " }\n",
       " metadata {\n",
       " }\n",
       " supported_export_formats {\n",
       "   id: \"custom-trained\"\n",
       "   exportable_contents: ARTIFACT\n",
       "   exportable_contents: IMAGE\n",
       " }\n",
       " container_spec {\n",
       "   image_uri: \"us-docker.pkg.dev/deeplearning-sahil/sahil-experiment-docker-images/ml-pipelines-kfp-image:main\"\n",
       "   args: \"uvicorn\"\n",
       "   args: \"src.iris_xgboost.server:app\"\n",
       "   args: \"--host\"\n",
       "   args: \"0.0.0.0\"\n",
       "   args: \"--port\"\n",
       "   args: \"8080\"\n",
       "   ports {\n",
       "     container_port: 8080\n",
       "   }\n",
       "   predict_route: \"/predict\"\n",
       "   health_route: \"/health/live\"\n",
       " }\n",
       " artifact_uri: \"gs://sb-vertex/pipeline_root/57434141298/pipeline-iris-20250505012201/choose-best-model_1561037302891806720/best_model\"\n",
       " supported_deployment_resources_types: DEDICATED_RESOURCES\n",
       " supported_input_storage_formats: \"jsonl\"\n",
       " supported_input_storage_formats: \"bigquery\"\n",
       " supported_input_storage_formats: \"csv\"\n",
       " supported_input_storage_formats: \"tf-record\"\n",
       " supported_input_storage_formats: \"tf-record-gzip\"\n",
       " supported_input_storage_formats: \"file-list\"\n",
       " supported_output_storage_formats: \"jsonl\"\n",
       " supported_output_storage_formats: \"bigquery\"\n",
       " create_time {\n",
       "   seconds: 1746422998\n",
       "   nanos: 130806000\n",
       " }\n",
       " update_time {\n",
       "   seconds: 1757800066\n",
       "   nanos: 832425000\n",
       " }\n",
       " etag: \"AMEw9yPMArG363zdEbZo-TnxHACkCxCMrZKAPQwcDN73xx_6SxxM32uWdh4-BD2gpc7k\"\n",
       " model_source_info {\n",
       "   source_type: CUSTOM\n",
       " }]"
      ]
     },
     "execution_count": 9,
     "metadata": {},
     "output_type": "execute_result"
    }
   ],
   "source": [
    "models"
   ]
  },
  {
   "cell_type": "code",
   "execution_count": 10,
   "id": "5be68c24",
   "metadata": {},
   "outputs": [
    {
     "name": "stdout",
     "output_type": "stream",
     "text": [
      "Found 1 model versions with name Iris-Classifier-XGBoost\n"
     ]
    }
   ],
   "source": [
    "print(f\"Found {len(models)} model versions with name {model_name}\")"
   ]
  },
  {
   "cell_type": "code",
   "execution_count": null,
   "id": "bb830508",
   "metadata": {},
   "outputs": [],
   "source": []
  },
  {
   "cell_type": "code",
   "execution_count": 11,
   "id": "1a86b185",
   "metadata": {},
   "outputs": [
    {
     "name": "stdout",
     "output_type": "stream",
     "text": [
      "Checking parent model: projects/57434141298/locations/us-central1/models/2672742342821150720\n",
      "Found 24 versions for this model\n",
      "Version 1: Aliases = ['default']\n",
      "Version 2: Aliases = []\n",
      "Version 3: Aliases = []\n",
      "Version 4: Aliases = []\n",
      "Version 5: Aliases = []\n",
      "Version 6: Aliases = []\n",
      "Version 7: Aliases = []\n",
      "Version 8: Aliases = []\n",
      "Version 9: Aliases = []\n",
      "Version 10: Aliases = []\n",
      "Version 11: Aliases = []\n",
      "Version 12: Aliases = []\n",
      "Version 13: Aliases = []\n",
      "Version 14: Aliases = []\n",
      "Version 15: Aliases = []\n",
      "Version 16: Aliases = []\n",
      "Version 17: Aliases = []\n",
      "Version 18: Aliases = []\n",
      "Version 19: Aliases = []\n",
      "Version 20: Aliases = []\n",
      "Version 21: Aliases = []\n",
      "Version 22: Aliases = []\n",
      "Version 23: Aliases = []\n",
      "Version 24: Aliases = ['blessed']\n",
      "Found blessed version: 24\n"
     ]
    }
   ],
   "source": [
    "for parent_model in models:\n",
    "    print(f\"Checking parent model: {parent_model.name}\")\n",
    "    \n",
    "    # List all versions of this model\n",
    "    versions_request = {\"name\": parent_model.name}\n",
    "    versions = list(client.list_model_versions(request=versions_request))\n",
    "    \n",
    "    print(f\"Found {len(versions)} versions for this model\")\n",
    "    \n",
    "    for version in versions:\n",
    "        print(f\"Version {version.version_id}: Aliases = {list(version.version_aliases)}\")\n",
    "        if \"blessed\" in version.version_aliases:\n",
    "            blessed_model = version\n",
    "            print(f\"Found blessed version: {version.version_id}\")\n",
    "            break\n",
    "    \n",
    "    if blessed_model:\n",
    "        break"
   ]
  },
  {
   "cell_type": "code",
   "execution_count": 12,
   "id": "204522d2",
   "metadata": {},
   "outputs": [
    {
     "data": {
      "text/plain": [
       "name: \"projects/57434141298/locations/us-central1/models/2672742342821150720@24\"\n",
       "version_id: \"24\"\n",
       "version_aliases: \"blessed\"\n",
       "version_create_time {\n",
       "  seconds: 1757800066\n",
       "  nanos: 832425000\n",
       "}\n",
       "version_update_time {\n",
       "  seconds: 1757800222\n",
       "  nanos: 956698000\n",
       "}\n",
       "display_name: \"Iris-Classifier-XGBoost\"\n",
       "predict_schemata {\n",
       "  instance_schema_uri: \"https://storage.googleapis.com/caip-tenant-46ea112b-0e41-4566-be6b-6d7ddd0712be/schemata/predict_instance.yaml?GoogleAccessId=service-57434141298@gcp-sa-aiplatform.iam.gserviceaccount.com&Expires=1757806134&Signature=KbCCFUJcdymZ9gRtiTTR2zB31yL7VE0XB6VGz0eFeODLrmU4jsKaxXVefyupnxFTG7ONMqtQM2flqvuLwhAq4D28sAP3WzjbiTnit4Jzf5z%252B%252Fl7vBgnLbPAxR7mCPuM5S0nJ%252FXiNV4Fzn%252Fv6otVte4wIswdT9cp2jevD%252FHX2dWsbAor750gGyZj%252Bvg1YS4FID%252Bzmud1%252F8Gb0X9Dzm4SmQNgc%252FzyEe7c5OHLJIFo%252FnMsOIU8kRIV%252B3sefeU9rnQscspuXxInqe%252BB7ksfZaLY8X%252BCxOkX%252Fm4SEqm8V8gkwyN83RSWK55wU6l%252FuKHynANMsnmoHmdL2mSZeRUe62VYhvA%253D%253D\"\n",
       "  prediction_schema_uri: \"https://storage.googleapis.com/caip-tenant-46ea112b-0e41-4566-be6b-6d7ddd0712be/schemata/prediction.yaml?GoogleAccessId=service-57434141298@gcp-sa-aiplatform.iam.gserviceaccount.com&Expires=1757806134&Signature=OocZaY3L2yzlKaStBx3x%252BAbM1PrtS%252FK6qXupoSlKwEXBgvQDsb320eE4gJ%252BrMnlN3VCs2NhW6UpkHO83BsJK6sJ4bXfLiG0Bq9yTlQ6O1ERylSrm8S4TJEXdjFrHhg3ONvyqNt2T%252BGZ7UMnDaleY%252FDiwlvH3fefaJz5kMrc3HgHxKhjt1OvEBE5EnTF7p%252BRQhdXU2olFQTL%252Fa2cYN75UHMWsb5esyg3Zyeigwxntq52V4TDwzs3%252B1KeBbOI7EbuUlkcuS%252B9%252FJ329%252FFVcOHDH9r7NIo4tpA7%252FvP2cKglrlhEcwv9ml4axvB225hGZEmpCdHd%252BmTJTJuqBntVKpeKAsA%253D%253D\"\n",
       "}\n",
       "metadata {\n",
       "}\n",
       "supported_export_formats {\n",
       "  id: \"custom-trained\"\n",
       "  exportable_contents: ARTIFACT\n",
       "  exportable_contents: IMAGE\n",
       "}\n",
       "container_spec {\n",
       "  image_uri: \"us-docker.pkg.dev/deeplearning-sahil/sahil-experiment-docker-images/ml-pipelines-kfp-image:main\"\n",
       "  args: \"uvicorn\"\n",
       "  args: \"src.ml_pipelines_kfp.iris_xgboost.server:app\"\n",
       "  args: \"--host\"\n",
       "  args: \"0.0.0.0\"\n",
       "  args: \"--port\"\n",
       "  args: \"8080\"\n",
       "  ports {\n",
       "    container_port: 8080\n",
       "  }\n",
       "  predict_route: \"/predict\"\n",
       "  health_route: \"/health/live\"\n",
       "}\n",
       "artifact_uri: \"gs://sb-vertex/pipeline_root/57434141298/pipeline-iris-20250913174151/choose-best-model_1726793559861886976/best_model\"\n",
       "supported_deployment_resources_types: DEDICATED_RESOURCES\n",
       "supported_input_storage_formats: \"jsonl\"\n",
       "supported_input_storage_formats: \"bigquery\"\n",
       "supported_input_storage_formats: \"csv\"\n",
       "supported_input_storage_formats: \"tf-record\"\n",
       "supported_input_storage_formats: \"tf-record-gzip\"\n",
       "supported_input_storage_formats: \"file-list\"\n",
       "supported_output_storage_formats: \"jsonl\"\n",
       "supported_output_storage_formats: \"bigquery\"\n",
       "create_time {\n",
       "  seconds: 1746422998\n",
       "  nanos: 130806000\n",
       "}\n",
       "update_time {\n",
       "  seconds: 1757800066\n",
       "  nanos: 832425000\n",
       "}\n",
       "etag: \"AMEw9yPoiVZ1GPnYSsnYjIKfAF6rU2VqYgkDVaf--tjm9_NrO0ExfOrW6klyZEImVuw_\"\n",
       "model_source_info {\n",
       "  source_type: CUSTOM\n",
       "}"
      ]
     },
     "execution_count": 12,
     "metadata": {},
     "output_type": "execute_result"
    }
   ],
   "source": [
    "blessed_model"
   ]
  },
  {
   "cell_type": "code",
   "execution_count": 13,
   "id": "21f20a45",
   "metadata": {},
   "outputs": [
    {
     "data": {
      "text/plain": [
       "'gs://sb-vertex/pipeline_root/57434141298/pipeline-iris-20250913174151/choose-best-model_1726793559861886976/best_model'"
      ]
     },
     "execution_count": 13,
     "metadata": {},
     "output_type": "execute_result"
    }
   ],
   "source": [
    "gcs_uri = blessed_model.artifact_uri\n",
    "gcs_uri"
   ]
  },
  {
   "cell_type": "code",
   "execution_count": 14,
   "id": "08554d65",
   "metadata": {},
   "outputs": [
    {
     "data": {
      "text/plain": [
       "'sb-vertex'"
      ]
     },
     "execution_count": 14,
     "metadata": {},
     "output_type": "execute_result"
    }
   ],
   "source": [
    "bucket_name = gcs_uri.replace('gs://', '').split('/')[0]\n",
    "bucket_name"
   ]
  },
  {
   "cell_type": "code",
   "execution_count": 15,
   "id": "930eada2",
   "metadata": {},
   "outputs": [
    {
     "data": {
      "text/plain": [
       "'pipeline_root/57434141298/pipeline-iris-20250913174151/choose-best-model_1726793559861886976/best_model'"
      ]
     },
     "execution_count": 15,
     "metadata": {},
     "output_type": "execute_result"
    }
   ],
   "source": [
    "model_path = '/'.join(gcs_uri.replace('gs://', '').split('/')[1:])\n",
    "model_path"
   ]
  },
  {
   "cell_type": "code",
   "execution_count": 16,
   "id": "6998aa95",
   "metadata": {},
   "outputs": [],
   "source": [
    "storage_client = storage.Client()\n",
    "bucket = storage_client.bucket(bucket_name)"
   ]
  },
  {
   "cell_type": "code",
   "execution_count": 17,
   "id": "8ff5c995",
   "metadata": {},
   "outputs": [],
   "source": [
    "model_blob_path = f\"{model_path}/model.joblib\"\n",
    "blob = bucket.blob(model_blob_path)"
   ]
  },
  {
   "cell_type": "code",
   "execution_count": 18,
   "id": "eec3887b",
   "metadata": {},
   "outputs": [
    {
     "data": {
      "text/plain": [
       "<Blob: sb-vertex, pipeline_root/57434141298/pipeline-iris-20250913174151/choose-best-model_1726793559861886976/best_model/model.joblib, None>"
      ]
     },
     "execution_count": 18,
     "metadata": {},
     "output_type": "execute_result"
    }
   ],
   "source": [
    "blob"
   ]
  },
  {
   "cell_type": "code",
   "execution_count": 19,
   "id": "55d8a0ed",
   "metadata": {},
   "outputs": [
    {
     "name": "stdout",
     "output_type": "stream",
     "text": [
      "Downloaded model to: /var/folders/m0/zbb6htc128l81r3p8lhs13xm0000gn/T/tmpb4fe1gb7.joblib\n"
     ]
    }
   ],
   "source": [
    "with tempfile.NamedTemporaryFile(suffix='.joblib', delete=False) as temp_file:\n",
    "    blob.download_to_filename(temp_file.name)\n",
    "    local_model_path = temp_file.name\n",
    "\n",
    "print(f\"Downloaded model to: {local_model_path}\")"
   ]
  },
  {
   "cell_type": "code",
   "execution_count": 20,
   "id": "d64db1e4",
   "metadata": {},
   "outputs": [
    {
     "name": "stdout",
     "output_type": "stream",
     "text": [
      "Model type: <class 'sklearn.ensemble._forest.RandomForestClassifier'>\n",
      "Model validation successful\n"
     ]
    },
    {
     "name": "stderr",
     "output_type": "stream",
     "text": [
      "/Users/shlba/Desktop/Docs/Study/code/ml_pipelines_kfp/.venv/lib/python3.10/site-packages/sklearn/base.py:380: InconsistentVersionWarning: Trying to unpickle estimator DecisionTreeClassifier from version 1.5.1 when using version 1.6.1. This might lead to breaking code or invalid results. Use at your own risk. For more info please refer to:\n",
      "https://scikit-learn.org/stable/model_persistence.html#security-maintainability-limitations\n",
      "  warnings.warn(\n",
      "/Users/shlba/Desktop/Docs/Study/code/ml_pipelines_kfp/.venv/lib/python3.10/site-packages/sklearn/base.py:380: InconsistentVersionWarning: Trying to unpickle estimator RandomForestClassifier from version 1.5.1 when using version 1.6.1. This might lead to breaking code or invalid results. Use at your own risk. For more info please refer to:\n",
      "https://scikit-learn.org/stable/model_persistence.html#security-maintainability-limitations\n",
      "  warnings.warn(\n"
     ]
    }
   ],
   "source": [
    "try:\n",
    "    model_obj = joblib.load(local_model_path)\n",
    "    print(f\"Model type: {type(model_obj)}\")\n",
    "    print(f\"Model validation successful\")\n",
    "except Exception as e:\n",
    "    os.unlink(local_model_path)\n",
    "    raise ValueError(f\"Model validation failed: {e}\")"
   ]
  },
  {
   "cell_type": "code",
   "execution_count": 21,
   "id": "4a22774c",
   "metadata": {},
   "outputs": [
    {
     "data": {
      "text/plain": [
       "'Iris-Classifier-XGBoost'"
      ]
     },
     "execution_count": 21,
     "metadata": {},
     "output_type": "execute_result"
    }
   ],
   "source": [
    "model_name"
   ]
  },
  {
   "cell_type": "code",
   "execution_count": 22,
   "id": "aad96e06",
   "metadata": {},
   "outputs": [
    {
     "data": {
      "text/plain": [
       "'iris-classifier-xgboost-service'"
      ]
     },
     "execution_count": 22,
     "metadata": {},
     "output_type": "execute_result"
    }
   ],
   "source": [
    "service_name=f\"{model_name.lower().replace('_', '-')}-service\"\n",
    "service_name"
   ]
  },
  {
   "cell_type": "code",
   "execution_count": 23,
   "id": "3ea5792c",
   "metadata": {},
   "outputs": [
    {
     "name": "stdout",
     "output_type": "stream",
     "text": [
      "Copying model to deployment location: gs://sb-vertex/deployed-models/iris-classifier-xgboost-service/model.joblib\n",
      "Model available at: gs://sb-vertex/deployed-models/iris-classifier-xgboost-service/model.joblib\n"
     ]
    }
   ],
   "source": [
    "# 4. Copy model to standard deployment location\n",
    "deployment_model_path = f\"deployed-models/{service_name}/model.joblib\"\n",
    "deployment_blob = bucket.blob(deployment_model_path)\n",
    "\n",
    "print(f\"Copying model to deployment location: gs://{bucket_name}/{deployment_model_path}\")\n",
    "deployment_blob.upload_from_filename(local_model_path)\n",
    "\n",
    "model_gcs_path = f\"gs://{bucket_name}/{deployment_model_path}\"\n",
    "print(f\"Model available at: {model_gcs_path}\")"
   ]
  },
  {
   "cell_type": "code",
   "execution_count": 24,
   "id": "2b75b089",
   "metadata": {},
   "outputs": [
    {
     "name": "stderr",
     "output_type": "stream",
     "text": [
      "I0000 00:00:1757802540.493297 54743774 check_gcp_environment_no_op.cc:29] ALTS: Platforms other than Linux and Windows are not supported\n"
     ]
    }
   ],
   "source": [
    "run_client = run_v2.ServicesClient()"
   ]
  },
  {
   "cell_type": "code",
   "execution_count": 25,
   "id": "e4efc49a",
   "metadata": {},
   "outputs": [
    {
     "data": {
      "text/plain": [
       "'us-docker.pkg.dev/deeplearning-sahil/sahil-experiment-docker-images/fastapi-ml-generic:latest'"
      ]
     },
     "execution_count": 25,
     "metadata": {},
     "output_type": "execute_result"
    }
   ],
   "source": [
    "generic_image =  \"us-docker.pkg.dev/deeplearning-sahil/sahil-experiment-docker-images/fastapi-ml-generic:latest\"\n",
    "generic_image"
   ]
  },
  {
   "cell_type": "code",
   "execution_count": 26,
   "id": "261f3405",
   "metadata": {},
   "outputs": [],
   "source": [
    "service_config = {\n",
    "    \"parent\": f\"projects/{project_id}/locations/{location}\",\n",
    "    \"service_id\": service_name,\n",
    "    \"service\": {\n",
    "        \"template\": {\n",
    "            \"containers\": [{\n",
    "                \"image\": generic_image,\n",
    "                \"ports\": [{\"container_port\": 8080}],\n",
    "                \"resources\": {\n",
    "                    \"limits\": {\n",
    "                        \"memory\": \"2Gi\",\n",
    "                        \"cpu\": \"2\"\n",
    "                    }\n",
    "                },\n",
    "                \"env\": [\n",
    "                    {\"name\": \"MODEL_GCS_PATH\", \"value\": model_gcs_path},\n",
    "                    {\"name\": \"MODEL_NAME\", \"value\": model_name},\n",
    "                    {\"name\": \"GOOGLE_CLOUD_PROJECT\", \"value\": project_id}\n",
    "                ]\n",
    "            }],\n",
    "            \"scaling\": {\n",
    "                \"min_instance_count\": 0,\n",
    "                \"max_instance_count\": 10\n",
    "            },\n",
    "            \"service_account\": f\"kfp-mlops@{project_id}.iam.gserviceaccount.com\"\n",
    "        },\n",
    "        \"traffic\": [{\"percent\": 100, \"type\": \"TRAFFIC_TARGET_ALLOCATION_TYPE_LATEST\"}]\n",
    "    }\n",
    "}\n"
   ]
  },
  {
   "cell_type": "code",
   "execution_count": 27,
   "id": "45a53022",
   "metadata": {},
   "outputs": [
    {
     "name": "stdout",
     "output_type": "stream",
     "text": [
      "Service iris-classifier-xgboost-service already exists, updating...\n",
      "Service deployed successfully to: https://iris-classifier-xgboost-service-zoxyfmo73q-uc.a.run.app\n"
     ]
    }
   ],
   "source": [
    "try:\n",
    "    existing_service = run_client.get_service(\n",
    "        name=f\"projects/{project_id}/locations/{location}/services/{service_name}\"\n",
    "    )\n",
    "    print(f\"Service {service_name} already exists, updating...\")\n",
    "    \n",
    "    # Update existing service\n",
    "    update_service = service_config[\"service\"]\n",
    "    update_service[\"name\"] = existing_service.name\n",
    "    \n",
    "    operation = run_client.update_service(service=update_service)\n",
    "    result = operation.result(timeout=600)\n",
    "    \n",
    "except Exception as get_error:\n",
    "    print(f\"Service doesn't exist, creating new one: {get_error}\")\n",
    "    # Create new service\n",
    "    operation = run_client.create_service(request=service_config)\n",
    "    result = operation.result(timeout=600)\n",
    "\n",
    "service_url = result.uri\n",
    "print(f\"Service deployed successfully to: {service_url}\")"
   ]
  },
  {
   "cell_type": "code",
   "execution_count": 34,
   "id": "44c09e0d",
   "metadata": {},
   "outputs": [
    {
     "name": "stdout",
     "output_type": "stream",
     "text": [
      "Testing deployment...\n"
     ]
    }
   ],
   "source": [
    "print(\"Testing deployment...\")\n",
    "time.sleep(1)  # Wait for service to be ready\n",
    "\n",
    "test_payload = {\n",
    "    \"instances\": [\n",
    "        {\"SepalLengthCm\": 5.1, \"SepalWidthCm\": 3.5, \"PetalLengthCm\": 1.4, \"PetalWidthCm\": 0.2}\n",
    "    ]\n",
    "}"
   ]
  },
  {
   "cell_type": "code",
   "execution_count": 30,
   "id": "1ffa7cf0",
   "metadata": {},
   "outputs": [
    {
     "ename": "ImportError",
     "evalue": "cannot import name 'SetIamPolicyRequest' from 'google.cloud.run_v2' (/Users/shlba/Desktop/Docs/Study/code/ml_pipelines_kfp/.venv/lib/python3.10/site-packages/google/cloud/run_v2/__init__.py)",
     "output_type": "error",
     "traceback": [
      "\u001b[0;31m---------------------------------------------------------------------------\u001b[0m",
      "\u001b[0;31mImportError\u001b[0m                               Traceback (most recent call last)",
      "Cell \u001b[0;32mIn[30], line 2\u001b[0m\n\u001b[1;32m      1\u001b[0m \u001b[38;5;66;03m# Ensure IAM policy allows unauthenticated access\u001b[39;00m\n\u001b[0;32m----> 2\u001b[0m \u001b[38;5;28;01mfrom\u001b[39;00m\u001b[38;5;250m \u001b[39m\u001b[38;5;21;01mgoogle\u001b[39;00m\u001b[38;5;21;01m.\u001b[39;00m\u001b[38;5;21;01mcloud\u001b[39;00m\u001b[38;5;21;01m.\u001b[39;00m\u001b[38;5;21;01mrun_v2\u001b[39;00m\u001b[38;5;250m \u001b[39m\u001b[38;5;28;01mimport\u001b[39;00m SetIamPolicyRequest\n\u001b[1;32m      3\u001b[0m \u001b[38;5;28;01mfrom\u001b[39;00m\u001b[38;5;250m \u001b[39m\u001b[38;5;21;01mgoogle\u001b[39;00m\u001b[38;5;21;01m.\u001b[39;00m\u001b[38;5;21;01miam\u001b[39;00m\u001b[38;5;21;01m.\u001b[39;00m\u001b[38;5;21;01mv1\u001b[39;00m\u001b[38;5;250m \u001b[39m\u001b[38;5;28;01mimport\u001b[39;00m policy_pb2, binding_pb2\n\u001b[1;32m      5\u001b[0m \u001b[38;5;66;03m# Create policy to allow public access\u001b[39;00m\n",
      "\u001b[0;31mImportError\u001b[0m: cannot import name 'SetIamPolicyRequest' from 'google.cloud.run_v2' (/Users/shlba/Desktop/Docs/Study/code/ml_pipelines_kfp/.venv/lib/python3.10/site-packages/google/cloud/run_v2/__init__.py)"
     ]
    }
   ],
   "source": [
    "# # Ensure IAM policy allows unauthenticated access\n",
    "# from google.cloud.run_v2 import SetIamPolicyRequest\n",
    "# from google.iam.v1 import policy_pb2, binding_pb2\n",
    "\n",
    "# # Create policy to allow public access\n",
    "# policy = policy_pb2.Policy()\n",
    "# binding = binding_pb2.Binding()\n",
    "# binding.role = \"roles/run.invoker\"\n",
    "# binding.members.append(\"allUsers\")\n",
    "# policy.bindings.append(binding)\n",
    "\n",
    "# # Apply the policy\n",
    "# iam_request = SetIamPolicyRequest(\n",
    "#     resource=result.name,\n",
    "#     policy=policy\n",
    "# )\n",
    "# run_client.set_iam_policy(request=iam_request)"
   ]
  },
  {
   "cell_type": "code",
   "execution_count": 32,
   "id": "97c63d6a",
   "metadata": {},
   "outputs": [
    {
     "name": "stderr",
     "output_type": "stream",
     "text": [
      "I0000 00:00:1757802667.945853 54743774 check_gcp_environment_no_op.cc:29] ALTS: Platforms other than Linux and Windows are not supported\n"
     ]
    },
    {
     "data": {
      "text/plain": [
       "version: 1\n",
       "bindings {\n",
       "  role: \"roles/run.invoker\"\n",
       "  members: \"allUsers\"\n",
       "}\n",
       "etag: \"\\007\\006>\\266S\\246\\273\\263\""
      ]
     },
     "execution_count": 32,
     "metadata": {},
     "output_type": "execute_result"
    }
   ],
   "source": [
    "# Ensure IAM policy allows unauthenticated access\n",
    "from google.cloud.run_v2 import ServicesClient\n",
    "from google.iam.v1 import iam_policy_pb2\n",
    "from google.iam.v1.iam_policy_pb2 import SetIamPolicyRequest\n",
    "from google.iam.v1 import policy_pb2\n",
    "\n",
    "# Initialize the client\n",
    "run_client = ServicesClient()\n",
    "\n",
    "# Create policy to allow public access\n",
    "policy = policy_pb2.Policy()\n",
    "binding = policy_pb2.Binding()\n",
    "binding.role = \"roles/run.invoker\"\n",
    "binding.members.append(\"allUsers\")\n",
    "policy.bindings.append(binding)\n",
    "\n",
    "# Apply the policy\n",
    "iam_request = SetIamPolicyRequest(\n",
    "    resource=result.name,  # This should be the full resource name\n",
    "    policy=policy\n",
    ")\n",
    "run_client.set_iam_policy(request=iam_request)"
   ]
  },
  {
   "cell_type": "code",
   "execution_count": 35,
   "id": "cc337803",
   "metadata": {},
   "outputs": [
    {
     "name": "stdout",
     "output_type": "stream",
     "text": [
      "Health check status: 200\n",
      "Health check response: {'status': 'healthy', 'model_type': \"<class 'sklearn.ensemble._forest.RandomForestClassifier'>\", 'model_loaded': True}\n",
      "Deployment test successful!\n",
      "Prediction: {'predictions': [{'prediction': 2}]}\n"
     ]
    }
   ],
   "source": [
    "try:\n",
    "    # Test health endpoint first\n",
    "    health_response = requests.get(f\"{service_url}/health\", timeout=30)\n",
    "    print(f\"Health check status: {health_response.status_code}\")\n",
    "    if health_response.status_code == 200:\n",
    "        print(f\"Health check response: {health_response.json()}\")\n",
    "    \n",
    "    # Test prediction endpoint\n",
    "    response = requests.post(\n",
    "        f\"{service_url}/predict\", \n",
    "        json=test_payload,\n",
    "        timeout=30\n",
    "    )\n",
    "    if response.status_code == 200:\n",
    "        print(\"Deployment test successful!\")\n",
    "        print(f\"Prediction: {response.json()}\")\n",
    "    else:\n",
    "        print(f\"Prediction test failed: {response.status_code} - {response.text}\")\n",
    "        \n",
    "except Exception as test_e:\n",
    "    print(f\"Test request failed: {test_e}\")"
   ]
  }
 ],
 "metadata": {
  "kernelspec": {
   "display_name": ".venv",
   "language": "python",
   "name": "python3"
  },
  "language_info": {
   "codemirror_mode": {
    "name": "ipython",
    "version": 3
   },
   "file_extension": ".py",
   "mimetype": "text/x-python",
   "name": "python",
   "nbconvert_exporter": "python",
   "pygments_lexer": "ipython3",
   "version": "3.10.0"
  }
 },
 "nbformat": 4,
 "nbformat_minor": 5
}

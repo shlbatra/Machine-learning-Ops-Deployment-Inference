{
 "cells": [
  {
   "cell_type": "code",
   "execution_count": 1,
   "metadata": {},
   "outputs": [],
   "source": [
    "from google.cloud import aiplatform, aiplatform_v1\n",
    "from google.protobuf import json_format\n",
    "from google.protobuf.struct_pb2 import Value"
   ]
  },
  {
   "cell_type": "code",
   "execution_count": 8,
   "metadata": {},
   "outputs": [],
   "source": [
    "location=\"us-central1\"\n",
    "project_id=\"553515216022\"\n",
    "endpoint_id=\"4805310016078741504\""
   ]
  },
  {
   "cell_type": "code",
   "execution_count": 9,
   "metadata": {},
   "outputs": [],
   "source": [
    "client=aiplatform_v1.PredictionServiceClient(\n",
    "    client_options={\"api_endpoint\": f\"{location}-aiplatform.googleapis.com\"}\n",
    ")"
   ]
  },
  {
   "cell_type": "code",
   "execution_count": 13,
   "metadata": {},
   "outputs": [],
   "source": [
    "endpoint=aiplatform.Endpoint(endpoint_name=f\"projects/{project_id}/locations/{location}/endpoints/{endpoint_id}\")\n",
    "endpoint"
   ]
  },
  {
   "cell_type": "code",
   "execution_count": 11,
   "metadata": {},
   "outputs": [],
   "source": [
    "instances = [\n",
    "    {\n",
    "        \"SepalLengthCm\": 5.8,\n",
    "        \"SepalWidthCm\": 2.1,\n",
    "        \"PetalLengthCm\": 5.0,\n",
    "        \"PetalWidthCm\": 1.0\n",
    "    }\n",
    "]"
   ]
  },
  {
   "cell_type": "code",
   "execution_count": 12,
   "metadata": {},
   "outputs": [
    {
     "data": {
      "text/plain": [
       "[struct_value {\n",
       "   fields {\n",
       "     key: \"SepalWidthCm\"\n",
       "     value {\n",
       "       number_value: 2.1\n",
       "     }\n",
       "   }\n",
       "   fields {\n",
       "     key: \"SepalLengthCm\"\n",
       "     value {\n",
       "       number_value: 5.8\n",
       "     }\n",
       "   }\n",
       "   fields {\n",
       "     key: \"PetalWidthCm\"\n",
       "     value {\n",
       "       number_value: 1\n",
       "     }\n",
       "   }\n",
       "   fields {\n",
       "     key: \"PetalLengthCm\"\n",
       "     value {\n",
       "       number_value: 5\n",
       "     }\n",
       "   }\n",
       " }]"
      ]
     },
     "execution_count": 12,
     "metadata": {},
     "output_type": "execute_result"
    }
   ],
   "source": [
    "instances = [json_format.ParseDict(instance, Value()) for instance in instances]\n",
    "instances"
   ]
  },
  {
   "cell_type": "code",
   "execution_count": null,
   "metadata": {},
   "outputs": [],
   "source": [
    "response = endpoint.predict(instances=instances)"
   ]
  }
 ],
 "metadata": {
  "kernelspec": {
   "display_name": ".venv",
   "language": "python",
   "name": "python3"
  },
  "language_info": {
   "codemirror_mode": {
    "name": "ipython",
    "version": 3
   },
   "file_extension": ".py",
   "mimetype": "text/x-python",
   "name": "python",
   "nbconvert_exporter": "python",
   "pygments_lexer": "ipython3",
   "version": "3.9.10"
  }
 },
 "nbformat": 4,
 "nbformat_minor": 2
}
